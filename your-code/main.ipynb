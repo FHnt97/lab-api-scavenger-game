{
 "cells": [
  {
   "cell_type": "markdown",
   "metadata": {},
   "source": [
    "# API Scavenger Game\n",
    "\n",
    "## Challenge 1: Fork Languages\n",
    "\n",
    "You will find out how many programming languages are used among all the forks created from the main lab repo of your bootcamp."
   ]
  },
  {
   "cell_type": "code",
   "execution_count": 5,
   "metadata": {},
   "outputs": [],
   "source": []
  },
  {
   "cell_type": "code",
   "execution_count": 2,
   "metadata": {
    "scrolled": true
   },
   "outputs": [],
   "source": [
    "# import libraries here\n",
    "import pandas as pd\n",
    "import requests as req\n",
    "import numpy as np\n",
    "import json"
   ]
  },
  {
   "cell_type": "markdown",
   "metadata": {},
   "source": [
    "Assuming the main lab repo is ironhack-datalabs/madrid-oct-2018, you will:\n",
    "\n",
    "#### 1. Obtain the full list of forks created from the main lab repo via Github API."
   ]
  },
  {
   "cell_type": "code",
   "execution_count": 3,
   "metadata": {},
   "outputs": [
    {
     "data": {
      "text/plain": [
       "<Response [200]>"
      ]
     },
     "execution_count": 3,
     "metadata": {},
     "output_type": "execute_result"
    }
   ],
   "source": [
    "# your code here\n",
    "end_point =\"https://api.github.com/repos/ironhack-datalabs/madrid-oct-2018/forks\"\n",
    "request = req.get(end_point)\n",
    "request"
   ]
  },
  {
   "cell_type": "code",
   "execution_count": 4,
   "metadata": {},
   "outputs": [
    {
     "data": {
      "text/plain": [
       "Index(['archive_url', 'archived', 'assignees_url', 'blobs_url', 'branches_url',\n",
       "       'clone_url', 'collaborators_url', 'comments_url', 'commits_url',\n",
       "       'compare_url', 'contents_url', 'contributors_url', 'created_at',\n",
       "       'default_branch', 'deployments_url', 'description', 'disabled',\n",
       "       'downloads_url', 'events_url', 'fork', 'forks', 'forks_count',\n",
       "       'forks_url', 'full_name', 'git_commits_url', 'git_refs_url',\n",
       "       'git_tags_url', 'git_url', 'has_downloads', 'has_issues', 'has_pages',\n",
       "       'has_projects', 'has_wiki', 'homepage', 'hooks_url', 'html_url', 'id',\n",
       "       'issue_comment_url', 'issue_events_url', 'issues_url', 'keys_url',\n",
       "       'labels_url', 'language', 'languages_url', 'license', 'merges_url',\n",
       "       'milestones_url', 'mirror_url', 'name', 'node_id', 'notifications_url',\n",
       "       'open_issues', 'open_issues_count', 'owner', 'private', 'pulls_url',\n",
       "       'pushed_at', 'releases_url', 'size', 'ssh_url', 'stargazers_count',\n",
       "       'stargazers_url', 'statuses_url', 'subscribers_url', 'subscription_url',\n",
       "       'svn_url', 'tags_url', 'teams_url', 'trees_url', 'updated_at', 'url',\n",
       "       'watchers', 'watchers_count'],\n",
       "      dtype='object')"
      ]
     },
     "execution_count": 4,
     "metadata": {},
     "output_type": "execute_result"
    }
   ],
   "source": [
    "data = request.json()\n",
    "data_df = pd.DataFrame(data)\n",
    "data_df.head()\n",
    "data_df.columns"
   ]
  },
  {
   "cell_type": "markdown",
   "metadata": {},
   "source": [
    "#### 2. Loop the JSON response to find out the language attribute of each fork. Use an array to store the language attributes of each fork.\n",
    "Hint: Each language should appear only once in your array.\n",
    "Print the language array. It should be something like: [\"Python\", \"Jupyter Notebook\", \"HTML\"]"
   ]
  },
  {
   "cell_type": "code",
   "execution_count": 5,
   "metadata": {},
   "outputs": [
    {
     "name": "stdout",
     "output_type": "stream",
     "text": [
      "['Jupyter Notebook', 'HTML', 'Python']\n"
     ]
    }
   ],
   "source": [
    "# your code here\n",
    "# col name : \"language\" --> see in full txt of api - not in db mode\n",
    "language_array= data_df.language.unique()\n",
    "print(list(language_array))"
   ]
  },
  {
   "cell_type": "markdown",
   "metadata": {},
   "source": [
    "## Challenge 2: Count Commits\n",
    "Count how many commits were made in the past week.\n",
    "#### 1. Obtain all the commits made in the past week via API, which is a JSON array that contains multiple commit objects."
   ]
  },
  {
   "cell_type": "code",
   "execution_count": 6,
   "metadata": {},
   "outputs": [],
   "source": [
    "# your code \n",
    "end_point_commit = \"https://api.github.com/repositories/153720804/commits\"\n",
    "params={\"since\":\"2018-01-05\",\"until\":\"2019-07-14\"}\n",
    "request2 = req.get(end_point_commit, params)\n",
    "request2\n",
    "data_commit = request2.json()\n",
    "\n",
    "\n",
    "#print(json.dumps(data2, indent = 4, sort_keys=True))"
   ]
  },
  {
   "cell_type": "markdown",
   "metadata": {},
   "source": [
    "#### 2. Count how many commit objects are contained in the array."
   ]
  },
  {
   "cell_type": "code",
   "execution_count": 7,
   "metadata": {},
   "outputs": [
    {
     "name": "stdout",
     "output_type": "stream",
     "text": [
      "30\n"
     ]
    }
   ],
   "source": [
    "# your code here - HELP\n",
    "# testing for validiy of search:\n",
    "\n",
    "data_commit[0][\"commit\"]\n",
    "\n",
    "# count\n",
    "count = 0\n",
    "for i in data_commit:\n",
    "    if i[\"commit\"]:\n",
    "        count +=1\n",
    "print(count)"
   ]
  },
  {
   "cell_type": "markdown",
   "metadata": {},
   "source": [
    "## Challenge 3: Hidden Cold Joke\n",
    "\n",
    "Using Python, call Github API to find out the cold joke contained in the 24 secret files in the following repo:\n",
    "\n",
    "https://github.com/ironhack-datalabs/scavenger\n",
    "\n",
    "The filenames of the secret files contain .scavengerhunt and they are scattered in different directories of this repo. The secret files are named from .0001.scavengerhunt to .0024.scavengerhunt. They are scattered randomly throughout this repo. You need to search for these files by calling the Github API, not searching the local files on your computer.\n",
    "\n",
    "#### 1. Find the secret files."
   ]
  },
  {
   "cell_type": "code",
   "execution_count": 31,
   "metadata": {},
   "outputs": [],
   "source": [
    "# your code here\n",
    "end_point_joke = \"https://api.github.com/search/code?q=scavengerhunt+in:path+repo:ironhack-datalabs/scavenger\"\n",
    "request_joke = req.get(end_point_joke)\n",
    "data_joke = request_joke.json()\n",
    "#print(json.dumps(data_joke, indent = 4, sort_keys = True))"
   ]
  },
  {
   "cell_type": "markdown",
   "metadata": {},
   "source": [
    "#### 2.  Sort the filenames ascendingly."
   ]
  },
  {
   "cell_type": "code",
   "execution_count": 34,
   "metadata": {
    "scrolled": true
   },
   "outputs": [
    {
     "data": {
      "text/html": [
       "<div>\n",
       "<style scoped>\n",
       "    .dataframe tbody tr th:only-of-type {\n",
       "        vertical-align: middle;\n",
       "    }\n",
       "\n",
       "    .dataframe tbody tr th {\n",
       "        vertical-align: top;\n",
       "    }\n",
       "\n",
       "    .dataframe thead th {\n",
       "        text-align: right;\n",
       "    }\n",
       "</style>\n",
       "<table border=\"1\" class=\"dataframe\">\n",
       "  <thead>\n",
       "    <tr style=\"text-align: right;\">\n",
       "      <th></th>\n",
       "      <th>git_url</th>\n",
       "      <th>html_url</th>\n",
       "      <th>name</th>\n",
       "      <th>path</th>\n",
       "      <th>repository</th>\n",
       "      <th>score</th>\n",
       "      <th>sha</th>\n",
       "      <th>url</th>\n",
       "    </tr>\n",
       "  </thead>\n",
       "  <tbody>\n",
       "    <tr>\n",
       "      <th>23</th>\n",
       "      <td>https://api.github.com/repositories/162375181/...</td>\n",
       "      <td>https://github.com/ironhack-datalabs/scavenger...</td>\n",
       "      <td>.0001.scavengerhunt</td>\n",
       "      <td>98750/.0001.scavengerhunt</td>\n",
       "      <td>{'id': 162375181, 'node_id': 'MDEwOlJlcG9zaXRv...</td>\n",
       "      <td>1.875645</td>\n",
       "      <td>2add7632f1323136324efbf38ec66db1838b6173</td>\n",
       "      <td>https://api.github.com/repositories/162375181/...</td>\n",
       "    </tr>\n",
       "    <tr>\n",
       "      <th>22</th>\n",
       "      <td>https://api.github.com/repositories/162375181/...</td>\n",
       "      <td>https://github.com/ironhack-datalabs/scavenger...</td>\n",
       "      <td>.0002.scavengerhunt</td>\n",
       "      <td>88596/.0002.scavengerhunt</td>\n",
       "      <td>{'id': 162375181, 'node_id': 'MDEwOlJlcG9zaXRv...</td>\n",
       "      <td>1.875645</td>\n",
       "      <td>1269488f7fb1f4b56a8c0e5eb48cecbfadfa9219</td>\n",
       "      <td>https://api.github.com/repositories/162375181/...</td>\n",
       "    </tr>\n",
       "    <tr>\n",
       "      <th>19</th>\n",
       "      <td>https://api.github.com/repositories/162375181/...</td>\n",
       "      <td>https://github.com/ironhack-datalabs/scavenger...</td>\n",
       "      <td>.0003.scavengerhunt</td>\n",
       "      <td>60224/.0003.scavengerhunt</td>\n",
       "      <td>{'id': 162375181, 'node_id': 'MDEwOlJlcG9zaXRv...</td>\n",
       "      <td>1.875645</td>\n",
       "      <td>ba524d7abc4b3a0c0995eb85c9eef470e9e7172f</td>\n",
       "      <td>https://api.github.com/repositories/162375181/...</td>\n",
       "    </tr>\n",
       "    <tr>\n",
       "      <th>20</th>\n",
       "      <td>https://api.github.com/repositories/162375181/...</td>\n",
       "      <td>https://github.com/ironhack-datalabs/scavenger...</td>\n",
       "      <td>.0004.scavengerhunt</td>\n",
       "      <td>68848/.0004.scavengerhunt</td>\n",
       "      <td>{'id': 162375181, 'node_id': 'MDEwOlJlcG9zaXRv...</td>\n",
       "      <td>1.875645</td>\n",
       "      <td>d15a2cc44e31b14c65264271b81072e5ba0e1634</td>\n",
       "      <td>https://api.github.com/repositories/162375181/...</td>\n",
       "    </tr>\n",
       "    <tr>\n",
       "      <th>9</th>\n",
       "      <td>https://api.github.com/repositories/162375181/...</td>\n",
       "      <td>https://github.com/ironhack-datalabs/scavenger...</td>\n",
       "      <td>.0005.scavengerhunt</td>\n",
       "      <td>44639/.0005.scavengerhunt</td>\n",
       "      <td>{'id': 162375181, 'node_id': 'MDEwOlJlcG9zaXRv...</td>\n",
       "      <td>1.875645</td>\n",
       "      <td>3aaf448b40f878cf3067e2323616143bdde600de</td>\n",
       "      <td>https://api.github.com/repositories/162375181/...</td>\n",
       "    </tr>\n",
       "  </tbody>\n",
       "</table>\n",
       "</div>"
      ],
      "text/plain": [
       "                                              git_url  \\\n",
       "23  https://api.github.com/repositories/162375181/...   \n",
       "22  https://api.github.com/repositories/162375181/...   \n",
       "19  https://api.github.com/repositories/162375181/...   \n",
       "20  https://api.github.com/repositories/162375181/...   \n",
       "9   https://api.github.com/repositories/162375181/...   \n",
       "\n",
       "                                             html_url                 name  \\\n",
       "23  https://github.com/ironhack-datalabs/scavenger...  .0001.scavengerhunt   \n",
       "22  https://github.com/ironhack-datalabs/scavenger...  .0002.scavengerhunt   \n",
       "19  https://github.com/ironhack-datalabs/scavenger...  .0003.scavengerhunt   \n",
       "20  https://github.com/ironhack-datalabs/scavenger...  .0004.scavengerhunt   \n",
       "9   https://github.com/ironhack-datalabs/scavenger...  .0005.scavengerhunt   \n",
       "\n",
       "                         path  \\\n",
       "23  98750/.0001.scavengerhunt   \n",
       "22  88596/.0002.scavengerhunt   \n",
       "19  60224/.0003.scavengerhunt   \n",
       "20  68848/.0004.scavengerhunt   \n",
       "9   44639/.0005.scavengerhunt   \n",
       "\n",
       "                                           repository     score  \\\n",
       "23  {'id': 162375181, 'node_id': 'MDEwOlJlcG9zaXRv...  1.875645   \n",
       "22  {'id': 162375181, 'node_id': 'MDEwOlJlcG9zaXRv...  1.875645   \n",
       "19  {'id': 162375181, 'node_id': 'MDEwOlJlcG9zaXRv...  1.875645   \n",
       "20  {'id': 162375181, 'node_id': 'MDEwOlJlcG9zaXRv...  1.875645   \n",
       "9   {'id': 162375181, 'node_id': 'MDEwOlJlcG9zaXRv...  1.875645   \n",
       "\n",
       "                                         sha  \\\n",
       "23  2add7632f1323136324efbf38ec66db1838b6173   \n",
       "22  1269488f7fb1f4b56a8c0e5eb48cecbfadfa9219   \n",
       "19  ba524d7abc4b3a0c0995eb85c9eef470e9e7172f   \n",
       "20  d15a2cc44e31b14c65264271b81072e5ba0e1634   \n",
       "9   3aaf448b40f878cf3067e2323616143bdde600de   \n",
       "\n",
       "                                                  url  \n",
       "23  https://api.github.com/repositories/162375181/...  \n",
       "22  https://api.github.com/repositories/162375181/...  \n",
       "19  https://api.github.com/repositories/162375181/...  \n",
       "20  https://api.github.com/repositories/162375181/...  \n",
       "9   https://api.github.com/repositories/162375181/...  "
      ]
     },
     "execution_count": 34,
     "metadata": {},
     "output_type": "execute_result"
    }
   ],
   "source": [
    "# your code here\n",
    "data_joke_df = pd.DataFrame(data_joke[\"items\"]).sort_values(\"name\", ascending=True)\n",
    "data_joke_df.head()"
   ]
  },
  {
   "cell_type": "markdown",
   "metadata": {},
   "source": [
    "#### 3. Read the content of each secret files into an array of strings."
   ]
  },
  {
   "cell_type": "code",
   "execution_count": null,
   "metadata": {},
   "outputs": [],
   "source": [
    "# your code here .scavengerhunt\n"
   ]
  },
  {
   "cell_type": "markdown",
   "metadata": {},
   "source": [
    "#### 4. Concatenate the strings in the array separating each two with a whitespace."
   ]
  },
  {
   "cell_type": "code",
   "execution_count": null,
   "metadata": {},
   "outputs": [],
   "source": [
    "# your code  - IN PROGRESS\n",
    "result = \" \".join()"
   ]
  },
  {
   "cell_type": "markdown",
   "metadata": {},
   "source": [
    "#### 5. Print out the joke."
   ]
  },
  {
   "cell_type": "code",
   "execution_count": null,
   "metadata": {},
   "outputs": [],
   "source": [
    "# your code here\n",
    "result"
   ]
  }
 ],
 "metadata": {
  "kernelspec": {
   "display_name": "Python 3",
   "language": "python",
   "name": "python3"
  },
  "language_info": {
   "codemirror_mode": {
    "name": "ipython",
    "version": 3
   },
   "file_extension": ".py",
   "mimetype": "text/x-python",
   "name": "python",
   "nbconvert_exporter": "python",
   "pygments_lexer": "ipython3",
   "version": "3.7.3"
  }
 },
 "nbformat": 4,
 "nbformat_minor": 2
}
